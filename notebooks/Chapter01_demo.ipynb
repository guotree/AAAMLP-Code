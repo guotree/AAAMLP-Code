{
 "cells": [
  {
   "cell_type": "markdown",
   "source": [
    "# Supervised vs unsupervised learning"
   ],
   "metadata": {
    "collapsed": false
   },
   "id": "f6c766b37f033e9a"
  },
  {
   "cell_type": "code",
   "execution_count": null,
   "outputs": [],
   "source": [
    "import matplotlib.pyplot as plt \n",
    "import numpy as np \n",
    "import pandas as pd \n",
    "import seaborn as sns \n",
    "from sklearn import datasets \n",
    "from sklearn import manifold"
   ],
   "metadata": {
    "collapsed": true,
    "is_executing": true,
    "ExecuteTime": {
     "start_time": "2023-12-17T09:24:50.126031600Z"
    }
   },
   "id": "initial_id"
  },
  {
   "cell_type": "code",
   "execution_count": null,
   "outputs": [],
   "source": [
    "data = datasets.fetch_openml( \n",
    "    'mnist_784',  \n",
    "    version=1,  \n",
    "    return_X_y=True \n",
    "    ) \n",
    "pixel_values, targets = data \n",
    "targets = targets.astype(int)"
   ],
   "metadata": {
    "collapsed": false,
    "is_executing": true
   },
   "id": "458bc43f911be04d"
  }
 ],
 "metadata": {
  "kernelspec": {
   "display_name": "Python 3",
   "language": "python",
   "name": "python3"
  },
  "language_info": {
   "codemirror_mode": {
    "name": "ipython",
    "version": 2
   },
   "file_extension": ".py",
   "mimetype": "text/x-python",
   "name": "python",
   "nbconvert_exporter": "python",
   "pygments_lexer": "ipython2",
   "version": "2.7.6"
  }
 },
 "nbformat": 4,
 "nbformat_minor": 5
}
