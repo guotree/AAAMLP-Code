{
 "cells": [
  {
   "cell_type": "markdown",
   "source": [
    "# Evaluation metrics"
   ],
   "metadata": {
    "collapsed": false
   }
  },
  {
   "cell_type": "code",
   "execution_count": 18,
   "outputs": [],
   "source": [
    "from src.chapter04.metricsUtil import util\n",
    "import matplotlib.pyplot as plt\n",
    "import seaborn as sns\n",
    "from sklearn import metrics"
   ],
   "metadata": {
    "collapsed": false,
    "ExecuteTime": {
     "end_time": "2023-12-17T05:46:25.561985200Z",
     "start_time": "2023-12-17T05:46:25.546507600Z"
    }
   }
  },
  {
   "cell_type": "markdown",
   "source": [
    "## Binary Classification"
   ],
   "metadata": {
    "collapsed": false
   }
  },
  {
   "cell_type": "code",
   "execution_count": 30,
   "outputs": [
    {
     "name": "stdout",
     "output_type": "stream",
     "text": [
      "================Confusion Matrix=================\n",
      "metrics tn:   3\n",
      "util.true_negative:   3\n",
      "metrics fp:   1\n",
      "util.false_positive:   1\n",
      "metrics fn:   2\n",
      "util.false_negative:   2\n",
      "metrics tp:   2\n",
      "util.true_positive:   2\n",
      "====================Accuracy=====================\n",
      "metrics.accuracy_score: 0.6250000000\n",
      "util.accuracy_score: 0.6250000000\n",
      "===================Precision=====================\n",
      "metrics.precision_score: 0.6666666667\n",
      "util.precision_score: 0.6666666667\n",
      "=====================Recall======================\n",
      "metrics.recall_score: 0.5000000000\n",
      "util.recall_score: 0.5000000000\n",
      "=======================F1========================\n",
      "metrics.f1_score: 0.5714285714\n",
      "util.f1_score: 0.5714285714\n"
     ]
    }
   ],
   "source": [
    "# Test tp, tn, fp, fn\n",
    "l1 = [0,1,1,1,0,0,0,1]\n",
    "l2 = [0,1,0,1,0,1,0,0]\n",
    "tn, fp, fn, tp = metrics.confusion_matrix(l1, l2).ravel()\n",
    "tn1 = util.true_negative(l1, l2)\n",
    "fp1 = util.false_positive(l1, l2)\n",
    "fn1 = util.false_negative(l1, l2)\n",
    "tp1 = util.true_positive(l1, l2)\n",
    "print(\"================Confusion Matrix=================\")\n",
    "print(\"metrics tn: {:3d}\\nutil.true_negative: {:3d}\".format(tn, tn1))\n",
    "print(\"metrics fp: {:3d}\\nutil.false_positive: {:3d}\".format(fp, fp1))\n",
    "print(\"metrics fn: {:3d}\\nutil.false_negative: {:3d}\".format(fn, fn1))\n",
    "print(\"metrics tp: {:3d}\\nutil.true_positive: {:3d}\".format(tp, tp1))\n",
    "\n",
    "# Test Accuracy\n",
    "acc = metrics.accuracy_score(l1, l2)\n",
    "acc1 = util.accuracy_score(l1, l2)\n",
    "print(\"====================Accuracy=====================\")\n",
    "print(\"metrics.accuracy_score: {:.10f}\\nutil.accuracy_score: {:.10f}\".format(acc, acc1))\n",
    "# Test Precision\n",
    "precision = metrics.precision_score(l1, l2)\n",
    "precision1 = util.precision_score(l1, l2)\n",
    "print(\"===================Precision=====================\")\n",
    "print(\"metrics.precision_score: {:.10f}\\nutil.precision_score: {:.10f}\".format(precision, precision1))\n",
    "# Test Recall\n",
    "recall = metrics.recall_score(l1, l2)\n",
    "recall1 = util.recall_score(l1, l2)\n",
    "print(\"=====================Recall======================\")\n",
    "print(\"metrics.recall_score: {:.10f}\\nutil.recall_score: {:.10f}\".format(recall, recall1))\n",
    "# Test F1\n",
    "f1 = metrics.f1_score(l1, l2)\n",
    "f1_1 = util.f1_score(l1, l2)\n",
    "print(\"=======================F1========================\")\n",
    "print(\"metrics.f1_score: {:.10f}\\nutil.f1_score: {:.10f}\".format(f1, f1_1))"
   ],
   "metadata": {
    "collapsed": false,
    "ExecuteTime": {
     "end_time": "2023-12-17T06:14:55.483777500Z",
     "start_time": "2023-12-17T06:14:55.440731800Z"
    }
   }
  },
  {
   "cell_type": "code",
   "execution_count": 25,
   "outputs": [
    {
     "data": {
      "text/plain": "<Figure size 400x400 with 1 Axes>",
      "image/png": "[encoded data removed]"
     },
     "metadata": {},
     "output_type": "display_data"
    }
   ],
   "source": [
    "# Plot PR curve\n",
    "y_true = [0, 0, 0, 1, 0, 0, 0, 0, 0, 0,\n",
    "          1, 0, 0, 0, 0, 0, 0, 0, 1, 0]\n",
    "y_pred = [0.02638412, 0.11114267, 0.31620708,\n",
    "          0.0490937, 0.0191491, 0.17554844,\n",
    "          0.15952202, 0.03819563, 0.11639273,\n",
    "          0.079377, 0.08584789, 0.39095342,\n",
    "          0.27259048, 0.03447096, 0.04644807,\n",
    "          0.03543574, 0.18521942, 0.05934905,\n",
    "          0.61977213, 0.33056815]\n",
    "precisions = []\n",
    "recalls = []\n",
    "thresholds = [0.0490937, 0.05934905, 0.079377,\n",
    "              0.08584789, 0.11114267, 0.11639273,\n",
    "              0.15952202, 0.17554844, 0.18521942,\n",
    "              0.27259048, 0.31620708, 0.33056815,\n",
    "              0.39095342, 0.61977213]\n",
    "for threshold in thresholds:\n",
    "    predictions = [1 if y >= threshold else 0 for y in y_pred]\n",
    "    p = util.precision_score(y_true, predictions)\n",
    "    r = util.recall_score(y_true, predictions)\n",
    "    precisions.append(p)\n",
    "    recalls.append(r)\n",
    "\n",
    "plt.figure(figsize=(4, 4))\n",
    "plt.plot(recalls, precisions)\n",
    "plt.xlabel('Recall', fontsize=15)\n",
    "plt.ylabel('Precision', fontsize=15)\n",
    "plt.title('Precision-Recall Curve', fontsize=20)\n",
    "plt.show()"
   ],
   "metadata": {
    "ExecuteTime": {
     "end_time": "2023-12-17T06:12:27.595251700Z",
     "start_time": "2023-12-17T06:12:26.294022300Z"
    }
   }
  },
  {
   "cell_type": "code",
   "execution_count": 29,
   "metadata": {
    "ExecuteTime": {
     "end_time": "2023-12-17T06:13:28.474319900Z",
     "start_time": "2023-12-17T06:13:28.358912100Z"
    }
   },
   "outputs": [
    {
     "data": {
      "text/plain": "<Figure size 400x400 with 1 Axes>",
      "image/png": "[encoded data removed]"
     },
     "metadata": {},
     "output_type": "display_data"
    }
   ],
   "source": [
    "# Plot ROC curve\n",
    "tpr_list = []\n",
    "fpr_list = []\n",
    "y_true = [0, 0, 0, 0, 1, 0, 1,\n",
    "          0, 0, 1, 0, 1, 0, 0, 1]\n",
    "y_pred = [0.1, 0.3, 0.2, 0.6, 0.8, 0.05,\n",
    "          0.9, 0.5, 0.3, 0.66, 0.3, 0.2,\n",
    "          0.85, 0.15, 0.99]\n",
    "thresholds = [0, 0.1, 0.2, 0.3, 0.4, 0.5,\n",
    "              0.6, 0.7, 0.8, 0.85, 0.9, 0.99, 1.0] \n",
    "for thresh in thresholds:\n",
    "    temp_pred = [1 if x >= thresh else 0 for x in y_pred]\n",
    "    temp_tpr = util.tpr_score(y_true, temp_pred)\n",
    "    temp_fpr = util.fpr_score(y_true, temp_pred)\n",
    "    tpr_list.append(temp_tpr)\n",
    "    fpr_list.append(temp_fpr)\n",
    "\n",
    "plt.figure(figsize=(4, 4))\n",
    "plt.fill_between(fpr_list, tpr_list, alpha=0.4)\n",
    "plt.plot(fpr_list, tpr_list, lw=3)\n",
    "plt.xlim([0.0, 1.0])\n",
    "plt.ylim([0.0, 1.0])\n",
    "plt.xlabel('False Positive Rate', fontsize=15)\n",
    "plt.ylabel('True Positive Rate', fontsize=15)\n",
    "plt.title('Receiver operating Characteristic Curve', fontsize=20)\n",
    "plt.show()"
   ]
  },
  {
   "cell_type": "code",
   "execution_count": 4,
   "metadata": {
    "ExecuteTime": {
     "end_time": "2023-12-16T17:23:35.094989400Z",
     "start_time": "2023-12-16T17:23:35.063995Z"
    }
   },
   "outputs": [
    {
     "name": "stdout",
     "output_type": "stream",
     "text": [
      "metrics.log_loss (weighted): 0.4988271186\n",
      "util.log_loss: 0.4988271186\n"
     ]
    }
   ],
   "source": [
    "# Test Log Loss\n",
    "y_true = [0, 0, 0, 0, 1, 0, 1,\n",
    "          0, 0, 1, 0, 1, 0, 0, 1]\n",
    "y_proba = [0.1, 0.3, 0.2, 0.6, 0.8, 0.05,\n",
    "           0.9, 0.5, 0.3, 0.66, 0.3, 0.2,\n",
    "           0.85, 0.15, 0.99]\n",
    "a = util.log_loss(y_true, y_proba)\n",
    "b = metrics.log_loss(y_true, y_proba)\n",
    "print(\"metrics.log_loss (weighted): {:.10f}\\nutil.log_loss: {:.10f}\".format(b, a))"
   ]
  },
  {
   "cell_type": "markdown",
   "source": [
    "## MultiClass Classification"
   ],
   "metadata": {
    "collapsed": false
   }
  },
  {
   "cell_type": "code",
   "execution_count": 10,
   "outputs": [
    {
     "name": "stdout",
     "output_type": "stream",
     "text": [
      "===================Precision=====================\n",
      "metrics.precision_score (macro): 0.3611111111\n",
      "util.macro_precision: 0.3611111111\n",
      "--------------------------------------------------\n",
      "metrics.precision_score (micro): 0.4444444444\n",
      "util.micro_precision: 0.4444444444\n",
      "--------------------------------------------------\n",
      "metrics.precision_score (weighted): 0.3981481481\n",
      "util.weighted_precision: 0.3981481481\n",
      "=====================Recall=======================\n",
      "metrics.recall_score (macro): 0.4166666667\n",
      "util.macro_recall: 0.4166666667\n",
      "--------------------------------------------------\n",
      "metrics.recall_score (micro): 0.4444444444\n",
      "util.micro_recall: 0.4444444444\n",
      "--------------------------------------------------\n",
      "metrics.recall_score (weighted): 0.4444444444\n",
      "util.weighted_recall: 0.4444444444\n",
      "=======================F1=========================\n",
      "metrics.f1_score (macro): 0.3809523810\n",
      "util.macro_f1: 0.3809523810\n",
      "util.macro_f1_1: 0.3869047619 [not recommended]\n",
      "--------------------------------------------------\n",
      "metrics.f1_score (micro): 0.4444444444\n",
      "util.micro_f1: 0.4444444444\n",
      "--------------------------------------------------\n",
      "metrics.f1_score (weighted): 0.4126984127\n",
      "util.weighted_f1: 0.4126984127\n"
     ]
    }
   ],
   "source": [
    "# Test Precision, Recall, F1\n",
    "y_true = [0, 1, 2, 0, 1, 2, 0, 2, 2]\n",
    "y_pred = [0, 2, 1, 0, 2, 1, 0, 0, 2]\n",
    "print(\"===================Precision=====================\")\n",
    "a = util.macro_precision(y_true, y_pred)\n",
    "b = metrics.precision_score(y_true, y_pred, average=\"macro\")\n",
    "print(\"metrics.precision_score (macro): {:.10f}\\nutil.macro_precision: {:.10f}\".format(b, a))\n",
    "print(\"--------------------------------------------------\")\n",
    "a = util.micro_precision(y_true, y_pred)\n",
    "b = metrics.precision_score(y_true, y_pred, average=\"micro\")\n",
    "print(\"metrics.precision_score (micro): {:.10f}\\nutil.micro_precision: {:.10f}\".format(b, a))\n",
    "print(\"--------------------------------------------------\")\n",
    "a = util.weighted_precision(y_true, y_pred)\n",
    "b = metrics.precision_score(y_true, y_pred, average=\"weighted\")\n",
    "print(\"metrics.precision_score (weighted): {:.10f}\\nutil.weighted_precision: {:.10f}\".format(b, a))\n",
    "print(\"=====================Recall=======================\")\n",
    "a = util.macro_recall(y_true, y_pred)\n",
    "b = metrics.recall_score(y_true, y_pred, average=\"macro\")\n",
    "print(\"metrics.recall_score (macro): {:.10f}\\nutil.macro_recall: {:.10f}\".format(b, a))\n",
    "print(\"--------------------------------------------------\")\n",
    "a = util.micro_recall(y_true, y_pred)\n",
    "b = metrics.recall_score(y_true, y_pred, average=\"micro\")\n",
    "print(\"metrics.recall_score (micro): {:.10f}\\nutil.micro_recall: {:.10f}\".format(b, a))\n",
    "print(\"--------------------------------------------------\")\n",
    "a = util.weighted_recall(y_true, y_pred)\n",
    "b = metrics.recall_score(y_true, y_pred, average=\"weighted\")\n",
    "print(\"metrics.recall_score (weighted): {:.10f}\\nutil.weighted_recall: {:.10f}\".format(b, a))\n",
    "print(\"=======================F1=========================\")\n",
    "a1 = util.macro_f1(y_true, y_pred)\n",
    "a2 = util.macro_f1_1(y_true, y_pred)\n",
    "b = metrics.f1_score(y_true, y_pred, average=\"macro\")\n",
    "print(\"metrics.f1_score (macro): {:.10f}\\nutil.macro_f1: {:.10f}\\nutil.macro_f1_1: {:.10f} [not recommended]\".format(b, a1, a2))\n",
    "print(\"--------------------------------------------------\")\n",
    "a = util.micro_f1(y_true, y_pred)\n",
    "b = metrics.f1_score(y_true, y_pred, average=\"micro\")\n",
    "print(\"metrics.f1_score (micro): {:.10f}\\nutil.micro_f1: {:.10f}\".format(b, a))\n",
    "print(\"--------------------------------------------------\")\n",
    "a = util.weighted_f1(y_true, y_pred)\n",
    "b = metrics.f1_score(y_true, y_pred, average=\"weighted\")\n",
    "print(\"metrics.f1_score (weighted): {:.10f}\\nutil.weighted_f1: {:.10f}\".format(b, a))"
   ],
   "metadata": {
    "ExecuteTime": {
     "end_time": "2023-12-16T17:23:56.989226Z",
     "start_time": "2023-12-16T17:23:56.970709700Z"
    }
   }
  },
  {
   "cell_type": "code",
   "execution_count": 14,
   "metadata": {
    "ExecuteTime": {
     "end_time": "2023-12-16T17:40:59.566703800Z",
     "start_time": "2023-12-16T17:40:59.480683800Z"
    }
   },
   "outputs": [
    {
     "data": {
      "text/plain": "<Figure size 400x400 with 1 Axes>",
      "image/png": "[encoded data removed]"
     },
     "metadata": {},
     "output_type": "display_data"
    }
   ],
   "source": [
    "# Test Confusion Matrix\n",
    "y_true = [0, 1, 2, 0, 1, 2, 0, 2, 2]\n",
    "y_pred = [0, 2, 1, 0, 2, 1, 0, 0, 2]\n",
    "\n",
    "cm = metrics.confusion_matrix(y_true, y_pred)\n",
    "plt.figure(figsize=(4, 4))\n",
    "cmap = sns.cubehelix_palette(50, hue=0.05, rot=0, light=0.9, dark=0, as_cmap=True)\n",
    "sns.set(font_scale=2.5)\n",
    "sns.heatmap(cm, annot=True, cmap=cmap, cbar=False)\n",
    "plt.ylabel(\"Actual Labels\", fontsize=12)\n",
    "plt.xlabel(\"Predicted Labels\", fontsize=12)\n",
    "plt.show()"
   ]
  },
  {
   "cell_type": "markdown",
   "source": [
    "## MultiLabel Classification"
   ],
   "metadata": {
    "collapsed": false
   }
  },
  {
   "cell_type": "code",
   "execution_count": 7,
   "metadata": {
    "ExecuteTime": {
     "end_time": "2023-12-16T17:23:35.206041700Z",
     "start_time": "2023-12-16T17:23:35.139156Z"
    }
   },
   "outputs": [
    {
     "name": "stdout",
     "output_type": "stream",
     "text": [
      "\n",
      "y_true=[1, 2, 3],\n",
      "y_pred=[0, 1, 2],\n",
      "AP@1=0.0\n",
      "\n",
      "\n",
      "y_true=[1, 2, 3],\n",
      "y_pred=[0, 1, 2],\n",
      "AP@2=0.25\n",
      "\n",
      "\n",
      "y_true=[1, 2, 3],\n",
      "y_pred=[0, 1, 2],\n",
      "AP@3=0.38888888888888884\n",
      "\n",
      "\n",
      "y_true=[0, 2],\n",
      "y_pred=[1],\n",
      "AP@1=0.0\n",
      "\n",
      "\n",
      "y_true=[0, 2],\n",
      "y_pred=[1],\n",
      "AP@2=0.0\n",
      "\n",
      "\n",
      "y_true=[0, 2],\n",
      "y_pred=[1],\n",
      "AP@3=0.0\n",
      "\n",
      "\n",
      "y_true=[1],\n",
      "y_pred=[0, 2, 3],\n",
      "AP@1=0.0\n",
      "\n",
      "\n",
      "y_true=[1],\n",
      "y_pred=[0, 2, 3],\n",
      "AP@2=0.0\n",
      "\n",
      "\n",
      "y_true=[1],\n",
      "y_pred=[0, 2, 3],\n",
      "AP@3=0.0\n",
      "\n",
      "\n",
      "y_true=[2, 3],\n",
      "y_pred=[2, 3, 4, 0],\n",
      "AP@1=1.0\n",
      "\n",
      "\n",
      "y_true=[2, 3],\n",
      "y_pred=[2, 3, 4, 0],\n",
      "AP@2=1.0\n",
      "\n",
      "\n",
      "y_true=[2, 3],\n",
      "y_pred=[2, 3, 4, 0],\n",
      "AP@3=0.8888888888888888\n",
      "\n",
      "\n",
      "y_true=[1, 0],\n",
      "y_pred=[0, 1, 2],\n",
      "AP@1=1.0\n",
      "\n",
      "\n",
      "y_true=[1, 0],\n",
      "y_pred=[0, 1, 2],\n",
      "AP@2=1.0\n",
      "\n",
      "\n",
      "y_true=[1, 0],\n",
      "y_pred=[0, 1, 2],\n",
      "AP@3=0.8888888888888888\n",
      "\n",
      "\n",
      "y_true=[],\n",
      "y_pred=[0],\n",
      "AP@1=0.0\n",
      "\n",
      "\n",
      "y_true=[],\n",
      "y_pred=[0],\n",
      "AP@2=0.0\n",
      "\n",
      "\n",
      "y_true=[],\n",
      "y_pred=[0],\n",
      "AP@3=0.0\n"
     ]
    }
   ],
   "source": [
    "# Test average precision at k or AP@k\n",
    "y_true = [\n",
    "    [1, 2, 3],\n",
    "    [0, 2],\n",
    "    [1],\n",
    "    [2, 3],\n",
    "    [1, 0],\n",
    "    []\n",
    "]\n",
    "y_pred = [\n",
    "    [0, 1, 2],\n",
    "    [1],\n",
    "    [0, 2, 3],\n",
    "    [2, 3, 4, 0],\n",
    "    [0, 1, 2],\n",
    "    [0]\n",
    "]\n",
    "for i in range(len(y_true)):\n",
    "    for j in range(1, 4):\n",
    "        print(f\"\"\"\n",
    "y_true={y_true[i]},\n",
    "y_pred={y_pred[i]},\n",
    "AP@{j}={util.apk(y_true[i], y_pred[i], k=j)}\n",
    "\"\"\")"
   ]
  },
  {
   "cell_type": "code",
   "execution_count": 15,
   "outputs": [
    {
     "name": "stdout",
     "output_type": "stream",
     "text": [
      "mapk@0=0.0\n",
      "mapk@1=0.3333333333333333\n",
      "mapk@2=0.375\n",
      "mapk@3=0.3611111111111111\n",
      "mapk@4=0.34722222222222215\n",
      "mapk@5=0.33888888888888885\n"
     ]
    }
   ],
   "source": [
    "# Test mean average precision at k or MAP@k\n",
    "y_true = [\n",
    "    [1, 2, 3],\n",
    "    [0, 2],\n",
    "    [1],\n",
    "    [2, 3],\n",
    "    [1, 0],\n",
    "    []\n",
    "]\n",
    "y_pred = [\n",
    "    [0, 1, 2],\n",
    "    [1],\n",
    "    [0, 2, 3],\n",
    "    [2, 3, 4, 0],\n",
    "    [0, 1, 2],\n",
    "    [0]\n",
    "]\n",
    "for i in range(len(y_true)):\n",
    "    print(f\"\"\"mapk@{i}={util.mapk(y_true, y_pred, i)}\"\"\")"
   ],
   "metadata": {
    "collapsed": false,
    "ExecuteTime": {
     "end_time": "2023-12-17T05:23:07.014995500Z",
     "start_time": "2023-12-17T05:23:06.981159600Z"
    }
   }
  },
  {
   "cell_type": "code",
   "execution_count": 33,
   "outputs": [
    {
     "name": "stdout",
     "output_type": "stream",
     "text": [
      "mean column-wise log loss=6.396074147227906\n"
     ]
    }
   ],
   "source": [
    "# Test mean column-wise log loss\n",
    "y_true = [\n",
    "    [1, 2, 3],\n",
    "    [0, 2],\n",
    "    [1],\n",
    "    [2, 3],\n",
    "    [1, 0],\n",
    "    []\n",
    "]\n",
    "y_pred = [\n",
    "    [0, 1, 2],\n",
    "    [1],\n",
    "    [0, 2, 3],\n",
    "    [2, 3, 4, 0],\n",
    "    [0, 1, 2],\n",
    "    [0]\n",
    "]\n",
    "print(f\"\"\"mean column-wise log loss={util.mc_log_loss(y_true, y_pred)}\"\"\")"
   ],
   "metadata": {
    "collapsed": false,
    "ExecuteTime": {
     "end_time": "2023-12-17T07:21:30.260730500Z",
     "start_time": "2023-12-17T07:21:30.251740100Z"
    }
   }
  },
  {
   "cell_type": "code",
   "execution_count": null,
   "outputs": [],
   "source": [],
   "metadata": {
    "collapsed": false
   }
  }
 ],
 "metadata": {
  "kernelspec": {
   "display_name": "ml",
   "language": "python",
   "name": "python3"
  },
  "language_info": {
   "codemirror_mode": {
    "name": "ipython",
    "version": 3
   },
   "file_extension": ".py",
   "mimetype": "text/x-python",
   "name": "python",
   "nbconvert_exporter": "python",
   "pygments_lexer": "ipython3",
   "version": "3.7.6"
  }
 },
 "nbformat": 4,
 "nbformat_minor": 2
}
