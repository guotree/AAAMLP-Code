{
 "cells": [
  {
   "cell_type": "code",
   "execution_count": 2,
   "id": "initial_id",
   "metadata": {
    "collapsed": true,
    "ExecuteTime": {
     "end_time": "2023-12-18T02:31:16.795686600Z",
     "start_time": "2023-12-18T02:28:57.118452800Z"
    }
   },
   "outputs": [],
   "source": [
    "import pandas as pd\n",
    "import numpy as np\n",
    "from scipy import sparse\n",
    "from sklearn import preprocessing"
   ]
  },
  {
   "cell_type": "code",
   "execution_count": 3,
   "outputs": [],
   "source": [
    "df = pd.read_csv(\"../input/cat_train.csv\")\n",
    "df.loc[:, \"ord_2\"] = df.ord_2.fillna(\"NONE\")\n",
    "lbl_enc = preprocessing.LabelEncoder()\n",
    "df.loc[:, \"ord_2\"] = lbl_enc.fit_transform(df.ord_2.values)"
   ],
   "metadata": {
    "collapsed": false,
    "ExecuteTime": {
     "end_time": "2023-12-18T02:31:18.598823900Z",
     "start_time": "2023-12-18T02:31:16.795686600Z"
    }
   },
   "id": "29be056305e9b2be"
  },
  {
   "cell_type": "code",
   "execution_count": 4,
   "outputs": [
    {
     "name": "stdout",
     "output_type": "stream",
     "text": [
      "Size of dense array: 40000000\n",
      "Size of sparse array: 2003800\n",
      "Full size of sparse array: 4011604\n"
     ]
    }
   ],
   "source": [
    "# number of rows \n",
    "n_rows = 1000\n",
    "# number of columns \n",
    "n_cols = 10000\n",
    "# create random binary matrix with only 5% values as 1s \n",
    "example = np.random.binomial(1, p=0.05, size=(n_rows, n_cols))\n",
    "# print size in bytes \n",
    "print(f\"Size of dense array: {example.nbytes}\")\n",
    "# convert numpy array to sparse CSR matrix \n",
    "sparse_example = sparse.csr_matrix(example)\n",
    "# print size of this sparse matrix \n",
    "print(f\"Size of sparse array: {sparse_example.data.nbytes}\")\n",
    "full_size = (\n",
    "        sparse_example.data.nbytes +\n",
    "        sparse_example.indptr.nbytes +\n",
    "        sparse_example.indices.nbytes\n",
    ")\n",
    "# print full size of this sparse matrix \n",
    "print(f\"Full size of sparse array: {full_size}\")"
   ],
   "metadata": {
    "collapsed": false,
    "ExecuteTime": {
     "end_time": "2023-12-18T02:31:18.865019300Z",
     "start_time": "2023-12-18T02:31:18.598823900Z"
    }
   },
   "id": "b50a8b7454408c0a"
  },
  {
   "cell_type": "code",
   "execution_count": 5,
   "outputs": [
    {
     "name": "stdout",
     "output_type": "stream",
     "text": [
      "Size of dense array: 8000000000\n",
      "Size of sparse array: 8000000\n",
      "Full size of sparse array: 16000004\n"
     ]
    }
   ],
   "source": [
    "# create random 1-d array with 1001 different categories (int) \n",
    "example = np.random.randint(1000, size=1000000) \n",
    "# initialize OneHotEncoder from scikit-learn \n",
    "# keep sparse = False to get dense array \n",
    "ohe = preprocessing.OneHotEncoder(sparse=False) \n",
    "# fit and transform data with dense one hot encoder \n",
    "ohe_example = ohe.fit_transform(example.reshape(-1, 1)) \n",
    "# print size in bytes for dense array \n",
    "print(f\"Size of dense array: {ohe_example.nbytes}\") \n",
    "# initialize OneHotEncoder from scikit-learn \n",
    "# keep sparse = True to get sparse array \n",
    "ohe = preprocessing.OneHotEncoder(sparse=True) \n",
    "# fit and transform data with sparse one-hot encoder \n",
    "ohe_example = ohe.fit_transform(example.reshape(-1, 1)) \n",
    "# print size of this sparse matrix \n",
    "print(f\"Size of sparse array: {ohe_example.data.nbytes}\") \n",
    "full_size = ( \n",
    "ohe_example.data.nbytes +  \n",
    "ohe_example.indptr.nbytes + ohe_example.indices.nbytes \n",
    ") \n",
    "# print full size of this sparse matrix \n",
    "print(f\"Full size of sparse array: {full_size}\") "
   ],
   "metadata": {
    "collapsed": false,
    "ExecuteTime": {
     "end_time": "2023-12-18T02:31:31.972769700Z",
     "start_time": "2023-12-18T02:31:18.865019300Z"
    }
   },
   "id": "9c24eebea1cf11b6"
  },
  {
   "cell_type": "code",
   "execution_count": 6,
   "outputs": [],
   "source": [
    "df = pd.read_csv(\"../input/cat_train.csv\")\n",
    "df.loc[:, \"ord_2\"] = df.ord_2.fillna(\"NONE\")"
   ],
   "metadata": {
    "collapsed": false,
    "ExecuteTime": {
     "end_time": "2023-12-18T02:31:33.539152900Z",
     "start_time": "2023-12-18T02:31:31.972769700Z"
    }
   },
   "id": "20e4dd8ff3e424de"
  },
  {
   "cell_type": "code",
   "execution_count": 7,
   "outputs": [
    {
     "data": {
      "text/plain": "ord_2\nBoiling Hot     84790\nCold            97822\nFreezing       142726\nHot             67508\nLava Hot        64840\nNONE            18075\nWarm           124239\nName: id, dtype: int64"
     },
     "execution_count": 7,
     "metadata": {},
     "output_type": "execute_result"
    }
   ],
   "source": [
    "df.groupby(\"ord_2\")[\"id\"].count()"
   ],
   "metadata": {
    "collapsed": false,
    "ExecuteTime": {
     "end_time": "2023-12-18T02:31:33.648437500Z",
     "start_time": "2023-12-18T02:31:33.554754500Z"
    }
   },
   "id": "10b86f55d45d96dc"
  },
  {
   "cell_type": "code",
   "execution_count": 8,
   "outputs": [
    {
     "data": {
      "text/plain": "          ord_1        ord_2  count\n0   Contributor  Boiling Hot  15634\n1   Contributor         Cold  17734\n2   Contributor     Freezing  26082\n3   Contributor          Hot  12428\n4   Contributor     Lava Hot  11919\n5   Contributor         NONE   3250\n6   Contributor         Warm  22774\n7        Expert  Boiling Hot  19477\n8        Expert         Cold  22956\n9        Expert     Freezing  33249\n10       Expert          Hot  15792\n11       Expert     Lava Hot  15078\n12       Expert         NONE   4225\n13       Expert         Warm  28900\n14  Grandmaster  Boiling Hot  13623\n15  Grandmaster         Cold  15464\n16  Grandmaster     Freezing  22818\n17  Grandmaster          Hot  10805\n18  Grandmaster     Lava Hot  10363\n19  Grandmaster         NONE   2894\n20  Grandmaster         Warm  19899\n21       Master  Boiling Hot  10800\n22       Master         Cold  12364\n23       Master     Freezing  18035\n24       Master          Hot   8594\n25       Master     Lava Hot   8209\n26       Master         NONE   2262\n27       Master         Warm  15734\n28       Novice  Boiling Hot  22718\n29       Novice         Cold  26271\n30       Novice     Freezing  38233\n31       Novice          Hot  17850\n32       Novice     Lava Hot  17373\n33       Novice         NONE   4889\n34       Novice         Warm  33263",
      "text/html": "<div>\n<style scoped>\n    .dataframe tbody tr th:only-of-type {\n        vertical-align: middle;\n    }\n\n    .dataframe tbody tr th {\n        vertical-align: top;\n    }\n\n    .dataframe thead th {\n        text-align: right;\n    }\n</style>\n<table border=\"1\" class=\"dataframe\">\n  <thead>\n    <tr style=\"text-align: right;\">\n      <th></th>\n      <th>ord_1</th>\n      <th>ord_2</th>\n      <th>count</th>\n    </tr>\n  </thead>\n  <tbody>\n    <tr>\n      <th>0</th>\n      <td>Contributor</td>\n      <td>Boiling Hot</td>\n      <td>15634</td>\n    </tr>\n    <tr>\n      <th>1</th>\n      <td>Contributor</td>\n      <td>Cold</td>\n      <td>17734</td>\n    </tr>\n    <tr>\n      <th>2</th>\n      <td>Contributor</td>\n      <td>Freezing</td>\n      <td>26082</td>\n    </tr>\n    <tr>\n      <th>3</th>\n      <td>Contributor</td>\n      <td>Hot</td>\n      <td>12428</td>\n    </tr>\n    <tr>\n      <th>4</th>\n      <td>Contributor</td>\n      <td>Lava Hot</td>\n      <td>11919</td>\n    </tr>\n    <tr>\n      <th>5</th>\n      <td>Contributor</td>\n      <td>NONE</td>\n      <td>3250</td>\n    </tr>\n    <tr>\n      <th>6</th>\n      <td>Contributor</td>\n      <td>Warm</td>\n      <td>22774</td>\n    </tr>\n    <tr>\n      <th>7</th>\n      <td>Expert</td>\n      <td>Boiling Hot</td>\n      <td>19477</td>\n    </tr>\n    <tr>\n      <th>8</th>\n      <td>Expert</td>\n      <td>Cold</td>\n      <td>22956</td>\n    </tr>\n    <tr>\n      <th>9</th>\n      <td>Expert</td>\n      <td>Freezing</td>\n      <td>33249</td>\n    </tr>\n    <tr>\n      <th>10</th>\n      <td>Expert</td>\n      <td>Hot</td>\n      <td>15792</td>\n    </tr>\n    <tr>\n      <th>11</th>\n      <td>Expert</td>\n      <td>Lava Hot</td>\n      <td>15078</td>\n    </tr>\n    <tr>\n      <th>12</th>\n      <td>Expert</td>\n      <td>NONE</td>\n      <td>4225</td>\n    </tr>\n    <tr>\n      <th>13</th>\n      <td>Expert</td>\n      <td>Warm</td>\n      <td>28900</td>\n    </tr>\n    <tr>\n      <th>14</th>\n      <td>Grandmaster</td>\n      <td>Boiling Hot</td>\n      <td>13623</td>\n    </tr>\n    <tr>\n      <th>15</th>\n      <td>Grandmaster</td>\n      <td>Cold</td>\n      <td>15464</td>\n    </tr>\n    <tr>\n      <th>16</th>\n      <td>Grandmaster</td>\n      <td>Freezing</td>\n      <td>22818</td>\n    </tr>\n    <tr>\n      <th>17</th>\n      <td>Grandmaster</td>\n      <td>Hot</td>\n      <td>10805</td>\n    </tr>\n    <tr>\n      <th>18</th>\n      <td>Grandmaster</td>\n      <td>Lava Hot</td>\n      <td>10363</td>\n    </tr>\n    <tr>\n      <th>19</th>\n      <td>Grandmaster</td>\n      <td>NONE</td>\n      <td>2894</td>\n    </tr>\n    <tr>\n      <th>20</th>\n      <td>Grandmaster</td>\n      <td>Warm</td>\n      <td>19899</td>\n    </tr>\n    <tr>\n      <th>21</th>\n      <td>Master</td>\n      <td>Boiling Hot</td>\n      <td>10800</td>\n    </tr>\n    <tr>\n      <th>22</th>\n      <td>Master</td>\n      <td>Cold</td>\n      <td>12364</td>\n    </tr>\n    <tr>\n      <th>23</th>\n      <td>Master</td>\n      <td>Freezing</td>\n      <td>18035</td>\n    </tr>\n    <tr>\n      <th>24</th>\n      <td>Master</td>\n      <td>Hot</td>\n      <td>8594</td>\n    </tr>\n    <tr>\n      <th>25</th>\n      <td>Master</td>\n      <td>Lava Hot</td>\n      <td>8209</td>\n    </tr>\n    <tr>\n      <th>26</th>\n      <td>Master</td>\n      <td>NONE</td>\n      <td>2262</td>\n    </tr>\n    <tr>\n      <th>27</th>\n      <td>Master</td>\n      <td>Warm</td>\n      <td>15734</td>\n    </tr>\n    <tr>\n      <th>28</th>\n      <td>Novice</td>\n      <td>Boiling Hot</td>\n      <td>22718</td>\n    </tr>\n    <tr>\n      <th>29</th>\n      <td>Novice</td>\n      <td>Cold</td>\n      <td>26271</td>\n    </tr>\n    <tr>\n      <th>30</th>\n      <td>Novice</td>\n      <td>Freezing</td>\n      <td>38233</td>\n    </tr>\n    <tr>\n      <th>31</th>\n      <td>Novice</td>\n      <td>Hot</td>\n      <td>17850</td>\n    </tr>\n    <tr>\n      <th>32</th>\n      <td>Novice</td>\n      <td>Lava Hot</td>\n      <td>17373</td>\n    </tr>\n    <tr>\n      <th>33</th>\n      <td>Novice</td>\n      <td>NONE</td>\n      <td>4889</td>\n    </tr>\n    <tr>\n      <th>34</th>\n      <td>Novice</td>\n      <td>Warm</td>\n      <td>33263</td>\n    </tr>\n  </tbody>\n</table>\n</div>"
     },
     "execution_count": 8,
     "metadata": {},
     "output_type": "execute_result"
    }
   ],
   "source": [
    "df.groupby([\"ord_1\",\"ord_2\"])[\"id\"].count().reset_index(name=\"count\")"
   ],
   "metadata": {
    "collapsed": false,
    "ExecuteTime": {
     "end_time": "2023-12-18T02:31:33.789714700Z",
     "start_time": "2023-12-18T02:31:33.648437500Z"
    }
   },
   "id": "813d21cb3272db5c"
  },
  {
   "cell_type": "code",
   "execution_count": 9,
   "outputs": [],
   "source": [
    "df[\"new_feature\"] = (df[\"ord_1\"] + \"_\" + df[\"ord_2\"])\n",
    "df.drop(\"new_feature\", axis=1, inplace=True)"
   ],
   "metadata": {
    "collapsed": false,
    "ExecuteTime": {
     "end_time": "2023-12-18T02:31:34.571643300Z",
     "start_time": "2023-12-18T02:31:33.836816300Z"
    }
   },
   "id": "7b86099d32f634dc"
  },
  {
   "cell_type": "code",
   "execution_count": 10,
   "outputs": [
    {
     "data": {
      "text/plain": "Freezing       142726\nWarm           124239\nCold            97822\nBoiling Hot     84790\nHot             67508\nLava Hot        64840\nNONE            18075\nName: ord_2, dtype: int64"
     },
     "execution_count": 10,
     "metadata": {},
     "output_type": "execute_result"
    }
   ],
   "source": [
    "df.ord_2.value_counts()"
   ],
   "metadata": {
    "collapsed": false,
    "ExecuteTime": {
     "end_time": "2023-12-18T02:31:34.618598600Z",
     "start_time": "2023-12-18T02:31:34.556016300Z"
    }
   },
   "id": "ecf7b17fd7275eaf"
  },
  {
   "cell_type": "code",
   "execution_count": 17,
   "outputs": [],
   "source": [
    "train = pd.read_csv(\"../input/cat_train.csv\")\n",
    "test = pd.read_csv(\"../input/cat_test.csv\")\n",
    "\n",
    "test.loc[:, \"target\"] = -1\n",
    "data = pd.concat([train, test], axis=0).reset_index(drop=True)\n",
    "features = [x for x in train.columns if x not in [\"id\", \"target\"]]\n",
    "for feature in features:\n",
    "    lbl_enc = preprocessing.LabelEncoder()\n",
    "    temp_col = data[feature].fillna(\"NONE\").astype(str).values\n",
    "    data.loc[:,feature] = lbl_enc.fit_transform(temp_col)\n",
    "train = data[data[\"target\"] != -1].reset_index(drop=True)\n",
    "test = data[data[\"target\"] == -1].reset_index(drop=True)"
   ],
   "metadata": {
    "collapsed": false,
    "ExecuteTime": {
     "end_time": "2023-12-18T02:40:52.561100600Z",
     "start_time": "2023-12-18T02:40:44.322882400Z"
    }
   },
   "id": "eed8321cd85a8fe0"
  },
  {
   "cell_type": "code",
   "execution_count": null,
   "outputs": [],
   "source": [],
   "metadata": {
    "collapsed": false
   },
   "id": "ae63f3ece07aedd6"
  }
 ],
 "metadata": {
  "kernelspec": {
   "display_name": "Python 3",
   "language": "python",
   "name": "python3"
  },
  "language_info": {
   "codemirror_mode": {
    "name": "ipython",
    "version": 2
   },
   "file_extension": ".py",
   "mimetype": "text/x-python",
   "name": "python",
   "nbconvert_exporter": "python",
   "pygments_lexer": "ipython2",
   "version": "2.7.6"
  }
 },
 "nbformat": 4,
 "nbformat_minor": 5
}
